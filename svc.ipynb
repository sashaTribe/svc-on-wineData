{
  "nbformat": 4,
  "nbformat_minor": 0,
  "metadata": {
    "colab": {
      "provenance": [],
      "authorship_tag": "ABX9TyOPwDzhEOxN2sJJOunEflzY",
      "include_colab_link": true
    },
    "kernelspec": {
      "name": "python3",
      "display_name": "Python 3"
    },
    "language_info": {
      "name": "python"
    },
    "accelerator": "GPU",
    "gpuClass": "standard"
  },
  "cells": [
    {
      "cell_type": "markdown",
      "metadata": {
        "id": "view-in-github",
        "colab_type": "text"
      },
      "source": [
        "<a href=\"https://colab.research.google.com/github/sashaTribe/svc-on-wineData/blob/main/svc.ipynb\" target=\"_parent\"><img src=\"https://colab.research.google.com/assets/colab-badge.svg\" alt=\"Open In Colab\"/></a>"
      ]
    },
    {
      "cell_type": "code",
      "execution_count": null,
      "metadata": {
        "id": "KnH2gxD3uznB",
        "colab": {
          "base_uri": "https://localhost:8080/"
        },
        "outputId": "81f476c7-6f1c-42f3-b2ac-aded7326bdeb"
      },
      "outputs": [
        {
          "output_type": "stream",
          "name": "stdout",
          "text": [
            "2.9.2\n"
          ]
        }
      ],
      "source": [
        "from sklearn import linear_model\n",
        "import numpy as np\n",
        "import matplotlib.pyplot as plt\n",
        "from sklearn.model_selection import train_test_split\n",
        "import numpy.linalg as linalg\n",
        "from sklearn.preprocessing import StandardScaler\n",
        "from sklearn.svm import SVC\n",
        "import tensorflow as tf\n",
        "from tensorflow import keras\n",
        "from tensorflow.keras import layers\n",
        "from tensorflow.keras import metrics\n",
        "from tensorflow.keras import optimizers\n",
        "from tensorflow.keras.models import Sequential\n",
        "print(tf. __version__)"
      ]
    },
    {
      "cell_type": "code",
      "source": [],
      "metadata": {
        "id": "Ezn_6JILK35N"
      },
      "execution_count": null,
      "outputs": []
    },
    {
      "cell_type": "code",
      "source": [
        "wine_data = np.load('wineData.npy')\n",
        "wine_labels = np.load('wineLabels.npy')\n",
        "train_data,test_data,train_labels,test_labels = train_test_split(wine_data, wine_labels,  test_size=0.20, random_state=0)\n",
        "  \n",
        "scaler = StandardScaler()\n",
        "X_trn = scaler.fit_transform(train_data)\n",
        "X_tst = scaler.transform(test_data)\n",
        "plt.figure()\n",
        "plt.scatter(X_tst[:,0], X_tst[:,1], c=test_labels)\n",
        "plt.xlabel('Feature Dimension 0')\n",
        "plt.ylabel('Feature Dimension 1')\n",
        "plt.title('Ground Truth')\n",
        "\n",
        "\n"
      ],
      "metadata": {
        "colab": {
          "base_uri": "https://localhost:8080/",
          "height": 330
        },
        "id": "xFYxCzn8veU3",
        "outputId": "e4afd7a5-34e0-4282-dc32-a8d616c667c6"
      },
      "execution_count": null,
      "outputs": [
        {
          "output_type": "stream",
          "name": "stdout",
          "text": [
            "Number of columns: 13\n"
          ]
        },
        {
          "output_type": "execute_result",
          "data": {
            "text/plain": [
              "Text(0.5, 1.0, 'Ground Truth')"
            ]
          },
          "metadata": {},
          "execution_count": 3
        },
        {
          "output_type": "display_data",
          "data": {
            "text/plain": [
              "<Figure size 432x288 with 1 Axes>"
            ],
            "image/png": "[encoded data removed]"
          },
          "metadata": {
            "needs_background": "light"
          }
        }
      ]
    },
    {
      "cell_type": "code",
      "source": [
        "svc = SVC(kernel = 'linear')\n",
        "fit_data = svc.fit(train_data,train_labels)\n",
        "predict = svc.predict(test_data)\n",
        "mean_accuracy = svc.score(X_tst,test_labels)\n",
        "print(mean_accuracy)\n",
        "#plt.figure(figsize=[10,5])\n",
        "plt.scatter(X_tst[:,0], X_tst[:,1], c=predict)\n",
        "plt.title(\"Predictions\")\n"
      ],
      "metadata": {
        "colab": {
          "base_uri": "https://localhost:8080/",
          "height": 316
        },
        "id": "UURliJ8IJv1Q",
        "outputId": "9f6be389-e5d3-4c8b-d38b-be7100b0aadc"
      },
      "execution_count": null,
      "outputs": [
        {
          "output_type": "stream",
          "name": "stdout",
          "text": [
            "0.4722222222222222\n"
          ]
        },
        {
          "output_type": "execute_result",
          "data": {
            "text/plain": [
              "Text(0.5, 1.0, 'Predictions')"
            ]
          },
          "metadata": {},
          "execution_count": 24
        },
        {
          "output_type": "display_data",
          "data": {
            "text/plain": [
              "<Figure size 432x288 with 1 Axes>"
            ],
            "image/png": "[encoded data removed]"
          },
          "metadata": {
            "needs_background": "light"
          }
        }
      ]
    },
    {
      "cell_type": "code",
      "source": [
        "model = tf.keras.Sequential(layers=[\n",
        "        layers.Dense(4, activation=tf.nn.relu),\n",
        "        layers.Dense(10, activation=tf.nn.relu,),\n",
        "        layers.Dense(len(np.unique(train_labels)), activation=tf.nn.softmax),\n",
        "    ]\n",
        ")\n",
        "model.compile(optimizer=tf.keras.optimizers.SGD(),\n",
        "              loss=tf.keras.losses.SparseCategoricalCrossentropy(),\n",
        "              metrics=tf.keras.metrics.SparseCategoricalAccuracy())\n",
        "history = model.fit(X_trn,train_labels, epochs=200, validation_split=0.2,verbose=1)\n"
      ],
      "metadata": {
        "colab": {
          "base_uri": "https://localhost:8080/"
        },
        "id": "RsOcijiAK5ll",
        "outputId": "207b77fa-05f7-4e8c-fd6a-7023e686933f"
      },
      "execution_count": null,
      "outputs": [
        {
          "output_type": "stream",
          "name": "stdout",
          "text": [
            "Epoch 1/200\n",
            "4/4 [==============================] - 0s 40ms/step - loss: 1.2875 - sparse_categorical_accuracy: 0.2655 - val_loss: 1.2867 - val_sparse_categorical_accuracy: 0.2414\n",
            "Epoch 2/200\n",
            "4/4 [==============================] - 0s 7ms/step - loss: 1.2595 - sparse_categorical_accuracy: 0.2389 - val_loss: 1.2593 - val_sparse_categorical_accuracy: 0.2414\n",
            "Epoch 3/200\n",
            "4/4 [==============================] - 0s 6ms/step - loss: 1.2367 - sparse_categorical_accuracy: 0.2301 - val_loss: 1.2361 - val_sparse_categorical_accuracy: 0.2414\n",
            "Epoch 4/200\n",
            "4/4 [==============================] - 0s 7ms/step - loss: 1.2175 - sparse_categorical_accuracy: 0.2301 - val_loss: 1.2157 - val_sparse_categorical_accuracy: 0.2414\n",
            "Epoch 5/200\n",
            "4/4 [==============================] - 0s 7ms/step - loss: 1.1994 - sparse_categorical_accuracy: 0.2566 - val_loss: 1.1949 - val_sparse_categorical_accuracy: 0.2414\n",
            "Epoch 6/200\n",
            "4/4 [==============================] - 0s 8ms/step - loss: 1.1820 - sparse_categorical_accuracy: 0.2832 - val_loss: 1.1757 - val_sparse_categorical_accuracy: 0.2414\n",
            "Epoch 7/200\n",
            "4/4 [==============================] - 0s 8ms/step - loss: 1.1668 - sparse_categorical_accuracy: 0.2832 - val_loss: 1.1597 - val_sparse_categorical_accuracy: 0.2414\n",
            "Epoch 8/200\n",
            "4/4 [==============================] - 0s 7ms/step - loss: 1.1528 - sparse_categorical_accuracy: 0.2920 - val_loss: 1.1466 - val_sparse_categorical_accuracy: 0.2414\n",
            "Epoch 9/200\n",
            "4/4 [==============================] - 0s 7ms/step - loss: 1.1408 - sparse_categorical_accuracy: 0.2920 - val_loss: 1.1330 - val_sparse_categorical_accuracy: 0.2414\n",
            "Epoch 10/200\n",
            "4/4 [==============================] - 0s 14ms/step - loss: 1.1290 - sparse_categorical_accuracy: 0.2920 - val_loss: 1.1208 - val_sparse_categorical_accuracy: 0.2759\n",
            "Epoch 11/200\n",
            "4/4 [==============================] - 0s 8ms/step - loss: 1.1182 - sparse_categorical_accuracy: 0.2920 - val_loss: 1.1100 - val_sparse_categorical_accuracy: 0.2759\n",
            "Epoch 12/200\n",
            "4/4 [==============================] - 0s 7ms/step - loss: 1.1086 - sparse_categorical_accuracy: 0.3009 - val_loss: 1.0994 - val_sparse_categorical_accuracy: 0.2759\n",
            "Epoch 13/200\n",
            "4/4 [==============================] - 0s 9ms/step - loss: 1.0990 - sparse_categorical_accuracy: 0.3097 - val_loss: 1.0880 - val_sparse_categorical_accuracy: 0.2759\n",
            "Epoch 14/200\n",
            "4/4 [==============================] - 0s 8ms/step - loss: 1.0895 - sparse_categorical_accuracy: 0.3274 - val_loss: 1.0777 - val_sparse_categorical_accuracy: 0.2759\n",
            "Epoch 15/200\n",
            "4/4 [==============================] - 0s 7ms/step - loss: 1.0805 - sparse_categorical_accuracy: 0.3274 - val_loss: 1.0676 - val_sparse_categorical_accuracy: 0.2759\n",
            "Epoch 16/200\n",
            "4/4 [==============================] - 0s 14ms/step - loss: 1.0719 - sparse_categorical_accuracy: 0.3274 - val_loss: 1.0582 - val_sparse_categorical_accuracy: 0.2759\n",
            "Epoch 17/200\n",
            "4/4 [==============================] - 0s 7ms/step - loss: 1.0633 - sparse_categorical_accuracy: 0.3628 - val_loss: 1.0496 - val_sparse_categorical_accuracy: 0.2759\n",
            "Epoch 18/200\n",
            "4/4 [==============================] - 0s 8ms/step - loss: 1.0549 - sparse_categorical_accuracy: 0.3451 - val_loss: 1.0426 - val_sparse_categorical_accuracy: 0.2759\n",
            "Epoch 19/200\n",
            "4/4 [==============================] - 0s 8ms/step - loss: 1.0471 - sparse_categorical_accuracy: 0.3982 - val_loss: 1.0341 - val_sparse_categorical_accuracy: 0.2759\n",
            "Epoch 20/200\n",
            "4/4 [==============================] - 0s 7ms/step - loss: 1.0383 - sparse_categorical_accuracy: 0.3982 - val_loss: 1.0259 - val_sparse_categorical_accuracy: 0.3793\n",
            "Epoch 21/200\n",
            "4/4 [==============================] - 0s 10ms/step - loss: 1.0300 - sparse_categorical_accuracy: 0.5044 - val_loss: 1.0170 - val_sparse_categorical_accuracy: 0.4483\n",
            "Epoch 22/200\n",
            "4/4 [==============================] - 0s 6ms/step - loss: 1.0212 - sparse_categorical_accuracy: 0.5398 - val_loss: 1.0097 - val_sparse_categorical_accuracy: 0.5172\n",
            "Epoch 23/200\n",
            "4/4 [==============================] - 0s 6ms/step - loss: 1.0132 - sparse_categorical_accuracy: 0.5664 - val_loss: 1.0005 - val_sparse_categorical_accuracy: 0.5517\n",
            "Epoch 24/200\n",
            "4/4 [==============================] - 0s 8ms/step - loss: 1.0044 - sparse_categorical_accuracy: 0.5752 - val_loss: 0.9926 - val_sparse_categorical_accuracy: 0.5517\n",
            "Epoch 25/200\n",
            "4/4 [==============================] - 0s 6ms/step - loss: 0.9962 - sparse_categorical_accuracy: 0.6018 - val_loss: 0.9854 - val_sparse_categorical_accuracy: 0.5862\n",
            "Epoch 26/200\n",
            "4/4 [==============================] - 0s 6ms/step - loss: 0.9873 - sparse_categorical_accuracy: 0.6372 - val_loss: 0.9776 - val_sparse_categorical_accuracy: 0.5862\n",
            "Epoch 27/200\n",
            "4/4 [==============================] - 0s 6ms/step - loss: 0.9791 - sparse_categorical_accuracy: 0.6460 - val_loss: 0.9701 - val_sparse_categorical_accuracy: 0.5862\n",
            "Epoch 28/200\n",
            "4/4 [==============================] - 0s 6ms/step - loss: 0.9701 - sparse_categorical_accuracy: 0.6549 - val_loss: 0.9624 - val_sparse_categorical_accuracy: 0.5862\n",
            "Epoch 29/200\n",
            "4/4 [==============================] - 0s 6ms/step - loss: 0.9612 - sparse_categorical_accuracy: 0.6726 - val_loss: 0.9532 - val_sparse_categorical_accuracy: 0.5862\n",
            "Epoch 30/200\n",
            "4/4 [==============================] - 0s 6ms/step - loss: 0.9517 - sparse_categorical_accuracy: 0.6726 - val_loss: 0.9442 - val_sparse_categorical_accuracy: 0.5862\n",
            "Epoch 31/200\n",
            "4/4 [==============================] - 0s 6ms/step - loss: 0.9424 - sparse_categorical_accuracy: 0.6903 - val_loss: 0.9360 - val_sparse_categorical_accuracy: 0.5862\n",
            "Epoch 32/200\n",
            "4/4 [==============================] - 0s 16ms/step - loss: 0.9328 - sparse_categorical_accuracy: 0.6903 - val_loss: 0.9275 - val_sparse_categorical_accuracy: 0.5862\n",
            "Epoch 33/200\n",
            "4/4 [==============================] - 0s 7ms/step - loss: 0.9231 - sparse_categorical_accuracy: 0.7168 - val_loss: 0.9193 - val_sparse_categorical_accuracy: 0.5862\n",
            "Epoch 34/200\n",
            "4/4 [==============================] - 0s 7ms/step - loss: 0.9135 - sparse_categorical_accuracy: 0.7257 - val_loss: 0.9108 - val_sparse_categorical_accuracy: 0.5862\n",
            "Epoch 35/200\n",
            "4/4 [==============================] - 0s 6ms/step - loss: 0.9041 - sparse_categorical_accuracy: 0.7257 - val_loss: 0.9018 - val_sparse_categorical_accuracy: 0.5862\n",
            "Epoch 36/200\n",
            "4/4 [==============================] - 0s 13ms/step - loss: 0.8944 - sparse_categorical_accuracy: 0.7345 - val_loss: 0.8935 - val_sparse_categorical_accuracy: 0.5862\n",
            "Epoch 37/200\n",
            "4/4 [==============================] - 0s 7ms/step - loss: 0.8847 - sparse_categorical_accuracy: 0.7345 - val_loss: 0.8848 - val_sparse_categorical_accuracy: 0.5862\n",
            "Epoch 38/200\n",
            "4/4 [==============================] - 0s 6ms/step - loss: 0.8747 - sparse_categorical_accuracy: 0.7345 - val_loss: 0.8746 - val_sparse_categorical_accuracy: 0.5862\n",
            "Epoch 39/200\n",
            "4/4 [==============================] - 0s 7ms/step - loss: 0.8640 - sparse_categorical_accuracy: 0.7522 - val_loss: 0.8660 - val_sparse_categorical_accuracy: 0.6207\n",
            "Epoch 40/200\n",
            "4/4 [==============================] - 0s 9ms/step - loss: 0.8537 - sparse_categorical_accuracy: 0.7522 - val_loss: 0.8568 - val_sparse_categorical_accuracy: 0.6207\n",
            "Epoch 41/200\n",
            "4/4 [==============================] - 0s 6ms/step - loss: 0.8431 - sparse_categorical_accuracy: 0.7699 - val_loss: 0.8473 - val_sparse_categorical_accuracy: 0.6207\n",
            "Epoch 42/200\n",
            "4/4 [==============================] - 0s 6ms/step - loss: 0.8328 - sparse_categorical_accuracy: 0.7788 - val_loss: 0.8377 - val_sparse_categorical_accuracy: 0.6207\n",
            "Epoch 43/200\n",
            "4/4 [==============================] - 0s 7ms/step - loss: 0.8228 - sparse_categorical_accuracy: 0.7788 - val_loss: 0.8287 - val_sparse_categorical_accuracy: 0.6207\n",
            "Epoch 44/200\n",
            "4/4 [==============================] - 0s 6ms/step - loss: 0.8122 - sparse_categorical_accuracy: 0.7876 - val_loss: 0.8196 - val_sparse_categorical_accuracy: 0.6207\n",
            "Epoch 45/200\n",
            "4/4 [==============================] - 0s 7ms/step - loss: 0.8018 - sparse_categorical_accuracy: 0.8142 - val_loss: 0.8102 - val_sparse_categorical_accuracy: 0.6207\n",
            "Epoch 46/200\n",
            "4/4 [==============================] - 0s 7ms/step - loss: 0.7915 - sparse_categorical_accuracy: 0.8319 - val_loss: 0.8002 - val_sparse_categorical_accuracy: 0.6207\n",
            "Epoch 47/200\n",
            "4/4 [==============================] - 0s 6ms/step - loss: 0.7807 - sparse_categorical_accuracy: 0.8319 - val_loss: 0.7903 - val_sparse_categorical_accuracy: 0.6207\n",
            "Epoch 48/200\n",
            "4/4 [==============================] - 0s 10ms/step - loss: 0.7694 - sparse_categorical_accuracy: 0.8407 - val_loss: 0.7809 - val_sparse_categorical_accuracy: 0.6207\n",
            "Epoch 49/200\n",
            "4/4 [==============================] - 0s 7ms/step - loss: 0.7588 - sparse_categorical_accuracy: 0.8407 - val_loss: 0.7717 - val_sparse_categorical_accuracy: 0.6207\n",
            "Epoch 50/200\n",
            "4/4 [==============================] - 0s 7ms/step - loss: 0.7472 - sparse_categorical_accuracy: 0.8407 - val_loss: 0.7622 - val_sparse_categorical_accuracy: 0.6552\n",
            "Epoch 51/200\n",
            "4/4 [==============================] - 0s 9ms/step - loss: 0.7368 - sparse_categorical_accuracy: 0.8407 - val_loss: 0.7534 - val_sparse_categorical_accuracy: 0.6897\n",
            "Epoch 52/200\n",
            "4/4 [==============================] - 0s 9ms/step - loss: 0.7258 - sparse_categorical_accuracy: 0.8407 - val_loss: 0.7438 - val_sparse_categorical_accuracy: 0.7241\n",
            "Epoch 53/200\n",
            "4/4 [==============================] - 0s 7ms/step - loss: 0.7148 - sparse_categorical_accuracy: 0.8407 - val_loss: 0.7354 - val_sparse_categorical_accuracy: 0.7241\n",
            "Epoch 54/200\n",
            "4/4 [==============================] - 0s 9ms/step - loss: 0.7040 - sparse_categorical_accuracy: 0.8584 - val_loss: 0.7272 - val_sparse_categorical_accuracy: 0.7241\n",
            "Epoch 55/200\n",
            "4/4 [==============================] - 0s 6ms/step - loss: 0.6936 - sparse_categorical_accuracy: 0.8584 - val_loss: 0.7176 - val_sparse_categorical_accuracy: 0.7241\n",
            "Epoch 56/200\n",
            "4/4 [==============================] - 0s 14ms/step - loss: 0.6830 - sparse_categorical_accuracy: 0.8584 - val_loss: 0.7084 - val_sparse_categorical_accuracy: 0.7586\n",
            "Epoch 57/200\n",
            "4/4 [==============================] - 0s 8ms/step - loss: 0.6726 - sparse_categorical_accuracy: 0.8584 - val_loss: 0.6999 - val_sparse_categorical_accuracy: 0.7586\n",
            "Epoch 58/200\n",
            "4/4 [==============================] - 0s 7ms/step - loss: 0.6624 - sparse_categorical_accuracy: 0.8584 - val_loss: 0.6907 - val_sparse_categorical_accuracy: 0.7586\n",
            "Epoch 59/200\n",
            "4/4 [==============================] - 0s 13ms/step - loss: 0.6527 - sparse_categorical_accuracy: 0.8584 - val_loss: 0.6830 - val_sparse_categorical_accuracy: 0.7586\n",
            "Epoch 60/200\n",
            "4/4 [==============================] - 0s 7ms/step - loss: 0.6427 - sparse_categorical_accuracy: 0.8761 - val_loss: 0.6758 - val_sparse_categorical_accuracy: 0.7931\n",
            "Epoch 61/200\n",
            "4/4 [==============================] - 0s 8ms/step - loss: 0.6328 - sparse_categorical_accuracy: 0.8761 - val_loss: 0.6670 - val_sparse_categorical_accuracy: 0.7931\n",
            "Epoch 62/200\n",
            "4/4 [==============================] - 0s 7ms/step - loss: 0.6230 - sparse_categorical_accuracy: 0.8850 - val_loss: 0.6597 - val_sparse_categorical_accuracy: 0.7931\n",
            "Epoch 63/200\n",
            "4/4 [==============================] - 0s 7ms/step - loss: 0.6135 - sparse_categorical_accuracy: 0.8850 - val_loss: 0.6519 - val_sparse_categorical_accuracy: 0.8276\n",
            "Epoch 64/200\n",
            "4/4 [==============================] - 0s 9ms/step - loss: 0.6041 - sparse_categorical_accuracy: 0.8938 - val_loss: 0.6441 - val_sparse_categorical_accuracy: 0.8276\n",
            "Epoch 65/200\n",
            "4/4 [==============================] - 0s 7ms/step - loss: 0.5950 - sparse_categorical_accuracy: 0.8938 - val_loss: 0.6371 - val_sparse_categorical_accuracy: 0.8276\n",
            "Epoch 66/200\n",
            "4/4 [==============================] - 0s 9ms/step - loss: 0.5860 - sparse_categorical_accuracy: 0.9027 - val_loss: 0.6298 - val_sparse_categorical_accuracy: 0.8276\n",
            "Epoch 67/200\n",
            "4/4 [==============================] - 0s 7ms/step - loss: 0.5777 - sparse_categorical_accuracy: 0.9027 - val_loss: 0.6232 - val_sparse_categorical_accuracy: 0.8276\n",
            "Epoch 68/200\n",
            "4/4 [==============================] - 0s 7ms/step - loss: 0.5688 - sparse_categorical_accuracy: 0.9027 - val_loss: 0.6164 - val_sparse_categorical_accuracy: 0.8276\n",
            "Epoch 69/200\n",
            "4/4 [==============================] - 0s 8ms/step - loss: 0.5604 - sparse_categorical_accuracy: 0.9027 - val_loss: 0.6101 - val_sparse_categorical_accuracy: 0.8276\n",
            "Epoch 70/200\n",
            "4/4 [==============================] - 0s 9ms/step - loss: 0.5523 - sparse_categorical_accuracy: 0.9115 - val_loss: 0.6026 - val_sparse_categorical_accuracy: 0.8276\n",
            "Epoch 71/200\n",
            "4/4 [==============================] - 0s 10ms/step - loss: 0.5443 - sparse_categorical_accuracy: 0.9115 - val_loss: 0.5966 - val_sparse_categorical_accuracy: 0.8276\n",
            "Epoch 72/200\n",
            "4/4 [==============================] - 0s 7ms/step - loss: 0.5366 - sparse_categorical_accuracy: 0.9115 - val_loss: 0.5900 - val_sparse_categorical_accuracy: 0.8621\n",
            "Epoch 73/200\n",
            "4/4 [==============================] - 0s 9ms/step - loss: 0.5290 - sparse_categorical_accuracy: 0.9115 - val_loss: 0.5845 - val_sparse_categorical_accuracy: 0.8621\n",
            "Epoch 74/200\n",
            "4/4 [==============================] - 0s 7ms/step - loss: 0.5216 - sparse_categorical_accuracy: 0.9115 - val_loss: 0.5783 - val_sparse_categorical_accuracy: 0.8621\n",
            "Epoch 75/200\n",
            "4/4 [==============================] - 0s 7ms/step - loss: 0.5145 - sparse_categorical_accuracy: 0.9204 - val_loss: 0.5733 - val_sparse_categorical_accuracy: 0.8621\n",
            "Epoch 76/200\n",
            "4/4 [==============================] - 0s 7ms/step - loss: 0.5075 - sparse_categorical_accuracy: 0.9204 - val_loss: 0.5672 - val_sparse_categorical_accuracy: 0.8621\n",
            "Epoch 77/200\n",
            "4/4 [==============================] - 0s 7ms/step - loss: 0.5008 - sparse_categorical_accuracy: 0.9204 - val_loss: 0.5623 - val_sparse_categorical_accuracy: 0.8621\n",
            "Epoch 78/200\n",
            "4/4 [==============================] - 0s 7ms/step - loss: 0.4940 - sparse_categorical_accuracy: 0.9292 - val_loss: 0.5557 - val_sparse_categorical_accuracy: 0.8621\n",
            "Epoch 79/200\n",
            "4/4 [==============================] - 0s 8ms/step - loss: 0.4875 - sparse_categorical_accuracy: 0.9204 - val_loss: 0.5508 - val_sparse_categorical_accuracy: 0.8621\n",
            "Epoch 80/200\n",
            "4/4 [==============================] - 0s 9ms/step - loss: 0.4811 - sparse_categorical_accuracy: 0.9292 - val_loss: 0.5462 - val_sparse_categorical_accuracy: 0.8621\n",
            "Epoch 81/200\n",
            "4/4 [==============================] - 0s 8ms/step - loss: 0.4748 - sparse_categorical_accuracy: 0.9292 - val_loss: 0.5405 - val_sparse_categorical_accuracy: 0.8621\n",
            "Epoch 82/200\n",
            "4/4 [==============================] - 0s 8ms/step - loss: 0.4685 - sparse_categorical_accuracy: 0.9292 - val_loss: 0.5356 - val_sparse_categorical_accuracy: 0.8621\n",
            "Epoch 83/200\n",
            "4/4 [==============================] - 0s 7ms/step - loss: 0.4626 - sparse_categorical_accuracy: 0.9292 - val_loss: 0.5310 - val_sparse_categorical_accuracy: 0.8621\n",
            "Epoch 84/200\n",
            "4/4 [==============================] - 0s 9ms/step - loss: 0.4568 - sparse_categorical_accuracy: 0.9292 - val_loss: 0.5267 - val_sparse_categorical_accuracy: 0.8621\n",
            "Epoch 85/200\n",
            "4/4 [==============================] - 0s 8ms/step - loss: 0.4510 - sparse_categorical_accuracy: 0.9292 - val_loss: 0.5223 - val_sparse_categorical_accuracy: 0.8621\n",
            "Epoch 86/200\n",
            "4/4 [==============================] - 0s 8ms/step - loss: 0.4454 - sparse_categorical_accuracy: 0.9292 - val_loss: 0.5181 - val_sparse_categorical_accuracy: 0.8621\n",
            "Epoch 87/200\n",
            "4/4 [==============================] - 0s 9ms/step - loss: 0.4399 - sparse_categorical_accuracy: 0.9292 - val_loss: 0.5134 - val_sparse_categorical_accuracy: 0.8621\n",
            "Epoch 88/200\n",
            "4/4 [==============================] - 0s 7ms/step - loss: 0.4347 - sparse_categorical_accuracy: 0.9292 - val_loss: 0.5093 - val_sparse_categorical_accuracy: 0.8621\n",
            "Epoch 89/200\n",
            "4/4 [==============================] - 0s 8ms/step - loss: 0.4294 - sparse_categorical_accuracy: 0.9292 - val_loss: 0.5049 - val_sparse_categorical_accuracy: 0.8621\n",
            "Epoch 90/200\n",
            "4/4 [==============================] - 0s 9ms/step - loss: 0.4241 - sparse_categorical_accuracy: 0.9292 - val_loss: 0.5010 - val_sparse_categorical_accuracy: 0.8621\n",
            "Epoch 91/200\n",
            "4/4 [==============================] - 0s 8ms/step - loss: 0.4194 - sparse_categorical_accuracy: 0.9292 - val_loss: 0.4974 - val_sparse_categorical_accuracy: 0.8621\n",
            "Epoch 92/200\n",
            "4/4 [==============================] - 0s 8ms/step - loss: 0.4143 - sparse_categorical_accuracy: 0.9292 - val_loss: 0.4923 - val_sparse_categorical_accuracy: 0.8621\n",
            "Epoch 93/200\n",
            "4/4 [==============================] - 0s 7ms/step - loss: 0.4095 - sparse_categorical_accuracy: 0.9292 - val_loss: 0.4882 - val_sparse_categorical_accuracy: 0.8621\n",
            "Epoch 94/200\n",
            "4/4 [==============================] - 0s 8ms/step - loss: 0.4049 - sparse_categorical_accuracy: 0.9292 - val_loss: 0.4842 - val_sparse_categorical_accuracy: 0.8621\n",
            "Epoch 95/200\n",
            "4/4 [==============================] - 0s 8ms/step - loss: 0.4004 - sparse_categorical_accuracy: 0.9292 - val_loss: 0.4800 - val_sparse_categorical_accuracy: 0.8621\n",
            "Epoch 96/200\n",
            "4/4 [==============================] - 0s 9ms/step - loss: 0.3958 - sparse_categorical_accuracy: 0.9292 - val_loss: 0.4765 - val_sparse_categorical_accuracy: 0.8621\n",
            "Epoch 97/200\n",
            "4/4 [==============================] - 0s 10ms/step - loss: 0.3912 - sparse_categorical_accuracy: 0.9381 - val_loss: 0.4732 - val_sparse_categorical_accuracy: 0.8621\n",
            "Epoch 98/200\n",
            "4/4 [==============================] - 0s 7ms/step - loss: 0.3869 - sparse_categorical_accuracy: 0.9381 - val_loss: 0.4689 - val_sparse_categorical_accuracy: 0.8621\n",
            "Epoch 99/200\n",
            "4/4 [==============================] - 0s 7ms/step - loss: 0.3827 - sparse_categorical_accuracy: 0.9381 - val_loss: 0.4655 - val_sparse_categorical_accuracy: 0.8621\n",
            "Epoch 100/200\n",
            "4/4 [==============================] - 0s 7ms/step - loss: 0.3784 - sparse_categorical_accuracy: 0.9381 - val_loss: 0.4618 - val_sparse_categorical_accuracy: 0.8621\n",
            "Epoch 101/200\n",
            "4/4 [==============================] - 0s 8ms/step - loss: 0.3742 - sparse_categorical_accuracy: 0.9381 - val_loss: 0.4580 - val_sparse_categorical_accuracy: 0.8621\n",
            "Epoch 102/200\n",
            "4/4 [==============================] - 0s 9ms/step - loss: 0.3698 - sparse_categorical_accuracy: 0.9469 - val_loss: 0.4546 - val_sparse_categorical_accuracy: 0.8621\n",
            "Epoch 103/200\n",
            "4/4 [==============================] - 0s 15ms/step - loss: 0.3656 - sparse_categorical_accuracy: 0.9469 - val_loss: 0.4509 - val_sparse_categorical_accuracy: 0.8621\n",
            "Epoch 104/200\n",
            "4/4 [==============================] - 0s 7ms/step - loss: 0.3613 - sparse_categorical_accuracy: 0.9469 - val_loss: 0.4473 - val_sparse_categorical_accuracy: 0.8621\n",
            "Epoch 105/200\n",
            "4/4 [==============================] - 0s 7ms/step - loss: 0.3571 - sparse_categorical_accuracy: 0.9469 - val_loss: 0.4435 - val_sparse_categorical_accuracy: 0.8621\n",
            "Epoch 106/200\n",
            "4/4 [==============================] - 0s 7ms/step - loss: 0.3530 - sparse_categorical_accuracy: 0.9469 - val_loss: 0.4404 - val_sparse_categorical_accuracy: 0.8621\n",
            "Epoch 107/200\n",
            "4/4 [==============================] - 0s 7ms/step - loss: 0.3490 - sparse_categorical_accuracy: 0.9558 - val_loss: 0.4370 - val_sparse_categorical_accuracy: 0.8621\n",
            "Epoch 108/200\n",
            "4/4 [==============================] - 0s 7ms/step - loss: 0.3450 - sparse_categorical_accuracy: 0.9558 - val_loss: 0.4339 - val_sparse_categorical_accuracy: 0.8621\n",
            "Epoch 109/200\n",
            "4/4 [==============================] - 0s 7ms/step - loss: 0.3410 - sparse_categorical_accuracy: 0.9558 - val_loss: 0.4308 - val_sparse_categorical_accuracy: 0.8621\n",
            "Epoch 110/200\n",
            "4/4 [==============================] - 0s 7ms/step - loss: 0.3372 - sparse_categorical_accuracy: 0.9558 - val_loss: 0.4277 - val_sparse_categorical_accuracy: 0.8621\n",
            "Epoch 111/200\n",
            "4/4 [==============================] - 0s 8ms/step - loss: 0.3332 - sparse_categorical_accuracy: 0.9558 - val_loss: 0.4243 - val_sparse_categorical_accuracy: 0.8621\n",
            "Epoch 112/200\n",
            "4/4 [==============================] - 0s 9ms/step - loss: 0.3291 - sparse_categorical_accuracy: 0.9558 - val_loss: 0.4215 - val_sparse_categorical_accuracy: 0.8621\n",
            "Epoch 113/200\n",
            "4/4 [==============================] - 0s 8ms/step - loss: 0.3254 - sparse_categorical_accuracy: 0.9558 - val_loss: 0.4179 - val_sparse_categorical_accuracy: 0.8966\n",
            "Epoch 114/200\n",
            "4/4 [==============================] - 0s 8ms/step - loss: 0.3214 - sparse_categorical_accuracy: 0.9558 - val_loss: 0.4148 - val_sparse_categorical_accuracy: 0.8966\n",
            "Epoch 115/200\n",
            "4/4 [==============================] - 0s 10ms/step - loss: 0.3178 - sparse_categorical_accuracy: 0.9558 - val_loss: 0.4116 - val_sparse_categorical_accuracy: 0.8966\n",
            "Epoch 116/200\n",
            "4/4 [==============================] - 0s 8ms/step - loss: 0.3141 - sparse_categorical_accuracy: 0.9558 - val_loss: 0.4086 - val_sparse_categorical_accuracy: 0.8966\n",
            "Epoch 117/200\n",
            "4/4 [==============================] - 0s 7ms/step - loss: 0.3106 - sparse_categorical_accuracy: 0.9558 - val_loss: 0.4055 - val_sparse_categorical_accuracy: 0.8966\n",
            "Epoch 118/200\n",
            "4/4 [==============================] - 0s 7ms/step - loss: 0.3070 - sparse_categorical_accuracy: 0.9558 - val_loss: 0.4031 - val_sparse_categorical_accuracy: 0.8966\n",
            "Epoch 119/200\n",
            "4/4 [==============================] - 0s 7ms/step - loss: 0.3034 - sparse_categorical_accuracy: 0.9558 - val_loss: 0.4002 - val_sparse_categorical_accuracy: 0.8966\n",
            "Epoch 120/200\n",
            "4/4 [==============================] - 0s 8ms/step - loss: 0.3000 - sparse_categorical_accuracy: 0.9558 - val_loss: 0.3979 - val_sparse_categorical_accuracy: 0.8966\n",
            "Epoch 121/200\n",
            "4/4 [==============================] - 0s 8ms/step - loss: 0.2967 - sparse_categorical_accuracy: 0.9558 - val_loss: 0.3946 - val_sparse_categorical_accuracy: 0.8966\n",
            "Epoch 122/200\n",
            "4/4 [==============================] - 0s 8ms/step - loss: 0.2933 - sparse_categorical_accuracy: 0.9558 - val_loss: 0.3914 - val_sparse_categorical_accuracy: 0.8966\n",
            "Epoch 123/200\n",
            "4/4 [==============================] - 0s 8ms/step - loss: 0.2901 - sparse_categorical_accuracy: 0.9558 - val_loss: 0.3889 - val_sparse_categorical_accuracy: 0.8966\n",
            "Epoch 124/200\n",
            "4/4 [==============================] - 0s 7ms/step - loss: 0.2870 - sparse_categorical_accuracy: 0.9558 - val_loss: 0.3864 - val_sparse_categorical_accuracy: 0.8966\n",
            "Epoch 125/200\n",
            "4/4 [==============================] - 0s 9ms/step - loss: 0.2839 - sparse_categorical_accuracy: 0.9558 - val_loss: 0.3836 - val_sparse_categorical_accuracy: 0.8966\n",
            "Epoch 126/200\n",
            "4/4 [==============================] - 0s 9ms/step - loss: 0.2808 - sparse_categorical_accuracy: 0.9558 - val_loss: 0.3817 - val_sparse_categorical_accuracy: 0.8966\n",
            "Epoch 127/200\n",
            "4/4 [==============================] - 0s 8ms/step - loss: 0.2778 - sparse_categorical_accuracy: 0.9558 - val_loss: 0.3795 - val_sparse_categorical_accuracy: 0.8966\n",
            "Epoch 128/200\n",
            "4/4 [==============================] - 0s 7ms/step - loss: 0.2748 - sparse_categorical_accuracy: 0.9558 - val_loss: 0.3770 - val_sparse_categorical_accuracy: 0.8966\n",
            "Epoch 129/200\n",
            "4/4 [==============================] - 0s 8ms/step - loss: 0.2717 - sparse_categorical_accuracy: 0.9558 - val_loss: 0.3745 - val_sparse_categorical_accuracy: 0.8966\n",
            "Epoch 130/200\n",
            "4/4 [==============================] - 0s 7ms/step - loss: 0.2690 - sparse_categorical_accuracy: 0.9735 - val_loss: 0.3715 - val_sparse_categorical_accuracy: 0.8966\n",
            "Epoch 131/200\n",
            "4/4 [==============================] - 0s 7ms/step - loss: 0.2662 - sparse_categorical_accuracy: 0.9735 - val_loss: 0.3699 - val_sparse_categorical_accuracy: 0.8966\n",
            "Epoch 132/200\n",
            "4/4 [==============================] - 0s 11ms/step - loss: 0.2633 - sparse_categorical_accuracy: 0.9823 - val_loss: 0.3679 - val_sparse_categorical_accuracy: 0.8966\n",
            "Epoch 133/200\n",
            "4/4 [==============================] - 0s 9ms/step - loss: 0.2604 - sparse_categorical_accuracy: 0.9823 - val_loss: 0.3659 - val_sparse_categorical_accuracy: 0.8966\n",
            "Epoch 134/200\n",
            "4/4 [==============================] - 0s 9ms/step - loss: 0.2577 - sparse_categorical_accuracy: 0.9823 - val_loss: 0.3636 - val_sparse_categorical_accuracy: 0.8966\n",
            "Epoch 135/200\n",
            "4/4 [==============================] - 0s 10ms/step - loss: 0.2550 - sparse_categorical_accuracy: 0.9823 - val_loss: 0.3613 - val_sparse_categorical_accuracy: 0.8966\n",
            "Epoch 136/200\n",
            "4/4 [==============================] - 0s 8ms/step - loss: 0.2524 - sparse_categorical_accuracy: 0.9823 - val_loss: 0.3585 - val_sparse_categorical_accuracy: 0.8966\n",
            "Epoch 137/200\n",
            "4/4 [==============================] - 0s 8ms/step - loss: 0.2497 - sparse_categorical_accuracy: 0.9823 - val_loss: 0.3566 - val_sparse_categorical_accuracy: 0.8966\n",
            "Epoch 138/200\n",
            "4/4 [==============================] - 0s 8ms/step - loss: 0.2472 - sparse_categorical_accuracy: 0.9823 - val_loss: 0.3545 - val_sparse_categorical_accuracy: 0.8966\n",
            "Epoch 139/200\n",
            "4/4 [==============================] - 0s 7ms/step - loss: 0.2445 - sparse_categorical_accuracy: 0.9912 - val_loss: 0.3523 - val_sparse_categorical_accuracy: 0.8966\n",
            "Epoch 140/200\n",
            "4/4 [==============================] - 0s 7ms/step - loss: 0.2422 - sparse_categorical_accuracy: 0.9912 - val_loss: 0.3497 - val_sparse_categorical_accuracy: 0.8966\n",
            "Epoch 141/200\n",
            "4/4 [==============================] - 0s 8ms/step - loss: 0.2394 - sparse_categorical_accuracy: 0.9912 - val_loss: 0.3478 - val_sparse_categorical_accuracy: 0.8966\n",
            "Epoch 142/200\n",
            "4/4 [==============================] - 0s 8ms/step - loss: 0.2370 - sparse_categorical_accuracy: 0.9912 - val_loss: 0.3458 - val_sparse_categorical_accuracy: 0.8966\n",
            "Epoch 143/200\n",
            "4/4 [==============================] - 0s 8ms/step - loss: 0.2345 - sparse_categorical_accuracy: 0.9912 - val_loss: 0.3440 - val_sparse_categorical_accuracy: 0.8966\n",
            "Epoch 144/200\n",
            "4/4 [==============================] - 0s 9ms/step - loss: 0.2321 - sparse_categorical_accuracy: 0.9912 - val_loss: 0.3416 - val_sparse_categorical_accuracy: 0.8966\n",
            "Epoch 145/200\n",
            "4/4 [==============================] - 0s 8ms/step - loss: 0.2297 - sparse_categorical_accuracy: 0.9912 - val_loss: 0.3391 - val_sparse_categorical_accuracy: 0.8966\n",
            "Epoch 146/200\n",
            "4/4 [==============================] - 0s 9ms/step - loss: 0.2273 - sparse_categorical_accuracy: 0.9912 - val_loss: 0.3369 - val_sparse_categorical_accuracy: 0.8966\n",
            "Epoch 147/200\n",
            "4/4 [==============================] - 0s 8ms/step - loss: 0.2249 - sparse_categorical_accuracy: 0.9912 - val_loss: 0.3353 - val_sparse_categorical_accuracy: 0.8966\n",
            "Epoch 148/200\n",
            "4/4 [==============================] - 0s 8ms/step - loss: 0.2228 - sparse_categorical_accuracy: 0.9912 - val_loss: 0.3331 - val_sparse_categorical_accuracy: 0.8966\n",
            "Epoch 149/200\n",
            "4/4 [==============================] - 0s 8ms/step - loss: 0.2205 - sparse_categorical_accuracy: 0.9912 - val_loss: 0.3312 - val_sparse_categorical_accuracy: 0.8966\n",
            "Epoch 150/200\n",
            "4/4 [==============================] - 0s 7ms/step - loss: 0.2182 - sparse_categorical_accuracy: 0.9912 - val_loss: 0.3288 - val_sparse_categorical_accuracy: 0.8966\n",
            "Epoch 151/200\n",
            "4/4 [==============================] - 0s 8ms/step - loss: 0.2160 - sparse_categorical_accuracy: 0.9912 - val_loss: 0.3269 - val_sparse_categorical_accuracy: 0.8966\n",
            "Epoch 152/200\n",
            "4/4 [==============================] - 0s 7ms/step - loss: 0.2139 - sparse_categorical_accuracy: 0.9912 - val_loss: 0.3247 - val_sparse_categorical_accuracy: 0.8966\n",
            "Epoch 153/200\n",
            "4/4 [==============================] - 0s 10ms/step - loss: 0.2117 - sparse_categorical_accuracy: 0.9912 - val_loss: 0.3234 - val_sparse_categorical_accuracy: 0.8966\n",
            "Epoch 154/200\n",
            "4/4 [==============================] - 0s 8ms/step - loss: 0.2095 - sparse_categorical_accuracy: 0.9912 - val_loss: 0.3212 - val_sparse_categorical_accuracy: 0.8966\n",
            "Epoch 155/200\n",
            "4/4 [==============================] - 0s 8ms/step - loss: 0.2075 - sparse_categorical_accuracy: 0.9912 - val_loss: 0.3194 - val_sparse_categorical_accuracy: 0.8966\n",
            "Epoch 156/200\n",
            "4/4 [==============================] - 0s 10ms/step - loss: 0.2055 - sparse_categorical_accuracy: 0.9912 - val_loss: 0.3173 - val_sparse_categorical_accuracy: 0.8966\n",
            "Epoch 157/200\n",
            "4/4 [==============================] - 0s 8ms/step - loss: 0.2035 - sparse_categorical_accuracy: 0.9912 - val_loss: 0.3154 - val_sparse_categorical_accuracy: 0.8966\n",
            "Epoch 158/200\n",
            "4/4 [==============================] - 0s 9ms/step - loss: 0.2013 - sparse_categorical_accuracy: 0.9912 - val_loss: 0.3135 - val_sparse_categorical_accuracy: 0.8966\n",
            "Epoch 159/200\n",
            "4/4 [==============================] - 0s 7ms/step - loss: 0.1994 - sparse_categorical_accuracy: 0.9912 - val_loss: 0.3114 - val_sparse_categorical_accuracy: 0.8966\n",
            "Epoch 160/200\n",
            "4/4 [==============================] - 0s 9ms/step - loss: 0.1973 - sparse_categorical_accuracy: 0.9912 - val_loss: 0.3095 - val_sparse_categorical_accuracy: 0.8966\n",
            "Epoch 161/200\n",
            "4/4 [==============================] - 0s 7ms/step - loss: 0.1953 - sparse_categorical_accuracy: 0.9912 - val_loss: 0.3075 - val_sparse_categorical_accuracy: 0.8966\n",
            "Epoch 162/200\n",
            "4/4 [==============================] - 0s 7ms/step - loss: 0.1935 - sparse_categorical_accuracy: 0.9912 - val_loss: 0.3056 - val_sparse_categorical_accuracy: 0.8966\n",
            "Epoch 163/200\n",
            "4/4 [==============================] - 0s 7ms/step - loss: 0.1916 - sparse_categorical_accuracy: 0.9912 - val_loss: 0.3039 - val_sparse_categorical_accuracy: 0.8966\n",
            "Epoch 164/200\n",
            "4/4 [==============================] - 0s 8ms/step - loss: 0.1897 - sparse_categorical_accuracy: 0.9912 - val_loss: 0.3019 - val_sparse_categorical_accuracy: 0.8966\n",
            "Epoch 165/200\n",
            "4/4 [==============================] - 0s 8ms/step - loss: 0.1879 - sparse_categorical_accuracy: 0.9912 - val_loss: 0.3002 - val_sparse_categorical_accuracy: 0.8966\n",
            "Epoch 166/200\n",
            "4/4 [==============================] - 0s 8ms/step - loss: 0.1861 - sparse_categorical_accuracy: 0.9912 - val_loss: 0.2987 - val_sparse_categorical_accuracy: 0.8966\n",
            "Epoch 167/200\n",
            "4/4 [==============================] - 0s 9ms/step - loss: 0.1843 - sparse_categorical_accuracy: 0.9912 - val_loss: 0.2971 - val_sparse_categorical_accuracy: 0.8966\n",
            "Epoch 168/200\n",
            "4/4 [==============================] - 0s 15ms/step - loss: 0.1826 - sparse_categorical_accuracy: 0.9912 - val_loss: 0.2952 - val_sparse_categorical_accuracy: 0.8966\n",
            "Epoch 169/200\n",
            "4/4 [==============================] - 0s 7ms/step - loss: 0.1809 - sparse_categorical_accuracy: 0.9912 - val_loss: 0.2936 - val_sparse_categorical_accuracy: 0.8966\n",
            "Epoch 170/200\n",
            "4/4 [==============================] - 0s 8ms/step - loss: 0.1792 - sparse_categorical_accuracy: 0.9912 - val_loss: 0.2918 - val_sparse_categorical_accuracy: 0.8966\n",
            "Epoch 171/200\n",
            "4/4 [==============================] - 0s 8ms/step - loss: 0.1776 - sparse_categorical_accuracy: 0.9912 - val_loss: 0.2902 - val_sparse_categorical_accuracy: 0.8966\n",
            "Epoch 172/200\n",
            "4/4 [==============================] - 0s 8ms/step - loss: 0.1758 - sparse_categorical_accuracy: 0.9912 - val_loss: 0.2884 - val_sparse_categorical_accuracy: 0.8966\n",
            "Epoch 173/200\n",
            "4/4 [==============================] - 0s 9ms/step - loss: 0.1743 - sparse_categorical_accuracy: 0.9912 - val_loss: 0.2867 - val_sparse_categorical_accuracy: 0.8966\n",
            "Epoch 174/200\n",
            "4/4 [==============================] - 0s 9ms/step - loss: 0.1726 - sparse_categorical_accuracy: 0.9912 - val_loss: 0.2857 - val_sparse_categorical_accuracy: 0.8966\n",
            "Epoch 175/200\n",
            "4/4 [==============================] - 0s 14ms/step - loss: 0.1710 - sparse_categorical_accuracy: 0.9912 - val_loss: 0.2844 - val_sparse_categorical_accuracy: 0.8966\n",
            "Epoch 176/200\n",
            "4/4 [==============================] - 0s 7ms/step - loss: 0.1693 - sparse_categorical_accuracy: 0.9912 - val_loss: 0.2826 - val_sparse_categorical_accuracy: 0.8966\n",
            "Epoch 177/200\n",
            "4/4 [==============================] - 0s 8ms/step - loss: 0.1677 - sparse_categorical_accuracy: 0.9912 - val_loss: 0.2807 - val_sparse_categorical_accuracy: 0.9310\n",
            "Epoch 178/200\n",
            "4/4 [==============================] - 0s 9ms/step - loss: 0.1662 - sparse_categorical_accuracy: 0.9912 - val_loss: 0.2789 - val_sparse_categorical_accuracy: 0.9310\n",
            "Epoch 179/200\n",
            "4/4 [==============================] - 0s 7ms/step - loss: 0.1646 - sparse_categorical_accuracy: 0.9912 - val_loss: 0.2773 - val_sparse_categorical_accuracy: 0.9310\n",
            "Epoch 180/200\n",
            "4/4 [==============================] - 0s 9ms/step - loss: 0.1632 - sparse_categorical_accuracy: 0.9912 - val_loss: 0.2754 - val_sparse_categorical_accuracy: 0.9310\n",
            "Epoch 181/200\n",
            "4/4 [==============================] - 0s 8ms/step - loss: 0.1615 - sparse_categorical_accuracy: 0.9912 - val_loss: 0.2736 - val_sparse_categorical_accuracy: 0.9310\n",
            "Epoch 182/200\n",
            "4/4 [==============================] - 0s 8ms/step - loss: 0.1600 - sparse_categorical_accuracy: 0.9912 - val_loss: 0.2717 - val_sparse_categorical_accuracy: 0.9310\n",
            "Epoch 183/200\n",
            "4/4 [==============================] - 0s 8ms/step - loss: 0.1585 - sparse_categorical_accuracy: 0.9912 - val_loss: 0.2702 - val_sparse_categorical_accuracy: 0.9310\n",
            "Epoch 184/200\n",
            "4/4 [==============================] - 0s 9ms/step - loss: 0.1570 - sparse_categorical_accuracy: 0.9912 - val_loss: 0.2690 - val_sparse_categorical_accuracy: 0.9310\n",
            "Epoch 185/200\n",
            "4/4 [==============================] - 0s 15ms/step - loss: 0.1557 - sparse_categorical_accuracy: 0.9912 - val_loss: 0.2671 - val_sparse_categorical_accuracy: 0.9310\n",
            "Epoch 186/200\n",
            "4/4 [==============================] - 0s 14ms/step - loss: 0.1543 - sparse_categorical_accuracy: 0.9912 - val_loss: 0.2652 - val_sparse_categorical_accuracy: 0.9310\n",
            "Epoch 187/200\n",
            "4/4 [==============================] - 0s 7ms/step - loss: 0.1528 - sparse_categorical_accuracy: 0.9912 - val_loss: 0.2639 - val_sparse_categorical_accuracy: 0.9310\n",
            "Epoch 188/200\n",
            "4/4 [==============================] - 0s 10ms/step - loss: 0.1514 - sparse_categorical_accuracy: 0.9912 - val_loss: 0.2627 - val_sparse_categorical_accuracy: 0.9310\n",
            "Epoch 189/200\n",
            "4/4 [==============================] - 0s 8ms/step - loss: 0.1501 - sparse_categorical_accuracy: 0.9912 - val_loss: 0.2620 - val_sparse_categorical_accuracy: 0.9310\n",
            "Epoch 190/200\n",
            "4/4 [==============================] - 0s 8ms/step - loss: 0.1486 - sparse_categorical_accuracy: 0.9912 - val_loss: 0.2605 - val_sparse_categorical_accuracy: 0.9310\n",
            "Epoch 191/200\n",
            "4/4 [==============================] - 0s 9ms/step - loss: 0.1473 - sparse_categorical_accuracy: 0.9912 - val_loss: 0.2592 - val_sparse_categorical_accuracy: 0.9310\n",
            "Epoch 192/200\n",
            "4/4 [==============================] - 0s 8ms/step - loss: 0.1459 - sparse_categorical_accuracy: 0.9912 - val_loss: 0.2579 - val_sparse_categorical_accuracy: 0.9310\n",
            "Epoch 193/200\n",
            "4/4 [==============================] - 0s 8ms/step - loss: 0.1446 - sparse_categorical_accuracy: 0.9912 - val_loss: 0.2565 - val_sparse_categorical_accuracy: 0.9310\n",
            "Epoch 194/200\n",
            "4/4 [==============================] - 0s 9ms/step - loss: 0.1434 - sparse_categorical_accuracy: 0.9912 - val_loss: 0.2549 - val_sparse_categorical_accuracy: 0.9310\n",
            "Epoch 195/200\n",
            "4/4 [==============================] - 0s 9ms/step - loss: 0.1420 - sparse_categorical_accuracy: 0.9912 - val_loss: 0.2536 - val_sparse_categorical_accuracy: 0.9310\n",
            "Epoch 196/200\n",
            "4/4 [==============================] - 0s 9ms/step - loss: 0.1408 - sparse_categorical_accuracy: 1.0000 - val_loss: 0.2522 - val_sparse_categorical_accuracy: 0.9310\n",
            "Epoch 197/200\n",
            "4/4 [==============================] - 0s 7ms/step - loss: 0.1396 - sparse_categorical_accuracy: 1.0000 - val_loss: 0.2509 - val_sparse_categorical_accuracy: 0.9310\n",
            "Epoch 198/200\n",
            "4/4 [==============================] - 0s 8ms/step - loss: 0.1382 - sparse_categorical_accuracy: 1.0000 - val_loss: 0.2495 - val_sparse_categorical_accuracy: 0.9310\n",
            "Epoch 199/200\n",
            "4/4 [==============================] - 0s 8ms/step - loss: 0.1370 - sparse_categorical_accuracy: 1.0000 - val_loss: 0.2479 - val_sparse_categorical_accuracy: 0.9310\n",
            "Epoch 200/200\n",
            "4/4 [==============================] - 0s 8ms/step - loss: 0.1359 - sparse_categorical_accuracy: 1.0000 - val_loss: 0.2467 - val_sparse_categorical_accuracy: 0.9310\n"
          ]
        }
      ]
    },
    {
      "cell_type": "code",
      "source": [],
      "metadata": {
        "id": "UlW6JuQi-c7n"
      },
      "execution_count": null,
      "outputs": []
    },
    {
      "cell_type": "code",
      "source": [
        "model.summary()"
      ],
      "metadata": {
        "colab": {
          "base_uri": "https://localhost:8080/"
        },
        "id": "K3G3y2CF4RUk",
        "outputId": "5624073c-9dec-4bc0-e190-edae0c2abe07"
      },
      "execution_count": null,
      "outputs": [
        {
          "output_type": "stream",
          "name": "stdout",
          "text": [
            "Model: \"sequential_2\"\n",
            "_________________________________________________________________\n",
            " Layer (type)                Output Shape              Param #   \n",
            "=================================================================\n",
            " dense_6 (Dense)             (None, 4)                 56        \n",
            "                                                                 \n",
            " dense_7 (Dense)             (None, 10)                50        \n",
            "                                                                 \n",
            " dense_8 (Dense)             (None, 3)                 33        \n",
            "                                                                 \n",
            "=================================================================\n",
            "Total params: 139\n",
            "Trainable params: 139\n",
            "Non-trainable params: 0\n",
            "_________________________________________________________________\n"
          ]
        }
      ]
    },
    {
      "cell_type": "code",
      "source": [
        "plt.figure(figsize=[10,5])\n",
        "plt.subplot(121)\n",
        "plt.plot(history.history['sparse_categorical_accuracy'])\n",
        "plt.plot(history.history['val_sparse_categorical_accuracy'])\n",
        "plt.xlabel('Epoch')\n",
        "plt.ylabel('Accuracy')\n",
        "plt.legend(['Training Accuracy',\n",
        "           'Validation Accuracy'])\n",
        "plt.title('Accuracy Curves')"
      ],
      "metadata": {
        "colab": {
          "base_uri": "https://localhost:8080/",
          "height": 367
        },
        "id": "NHLJbij54d5R",
        "outputId": "520e26ad-142a-4fa0-ed20-df161d98520d"
      },
      "execution_count": null,
      "outputs": [
        {
          "output_type": "execute_result",
          "data": {
            "text/plain": [
              "Text(0.5, 1.0, 'Accuracy Curves')"
            ]
          },
          "metadata": {},
          "execution_count": 11
        },
        {
          "output_type": "display_data",
          "data": {
            "text/plain": [
              "<Figure size 720x360 with 1 Axes>"
            ],
            "image/png": "[encoded data removed]"
          },
          "metadata": {
            "needs_background": "light"
          }
        }
      ]
    },
    {
      "cell_type": "code",
      "source": [
        "plt.subplot(122)\n",
        "plt.plot(history.history['loss'])\n",
        "plt.plot(history.history['val_loss'])\n",
        "plt.xlabel('Epoch')\n",
        "plt.ylabel('Loss')\n",
        "plt.legend(['Training Loss',\n",
        "           'Validation Loss'])\n",
        "plt.title('Loss Curves')\n",
        "plt.show()"
      ],
      "metadata": {
        "colab": {
          "base_uri": "https://localhost:8080/",
          "height": 295
        },
        "id": "oGgpWnTB4sEJ",
        "outputId": "ace27288-a57c-417a-c2df-6cae384344d0"
      },
      "execution_count": null,
      "outputs": [
        {
          "output_type": "display_data",
          "data": {
            "text/plain": [
              "<Figure size 432x288 with 1 Axes>"
            ],
            "image/png": "[encoded data removed]"
          },
          "metadata": {
            "needs_background": "light"
          }
        }
      ]
    },
    {
      "cell_type": "code",
      "source": [
        "(x_train, y_train), (x_test, y_test) = tf.keras.datasets.mnist.load_data()"
      ],
      "metadata": {
        "colab": {
          "base_uri": "https://localhost:8080/"
        },
        "id": "GsjUyEnq-etK",
        "outputId": "6097789f-086c-42ba-c859-07ddefc3d55b"
      },
      "execution_count": null,
      "outputs": [
        {
          "output_type": "stream",
          "name": "stdout",
          "text": [
            "Downloading data from https://storage.googleapis.com/tensorflow/tf-keras-datasets/mnist.npz\n",
            "11490434/11490434 [==============================] - 0s 0us/step\n"
          ]
        }
      ]
    },
    {
      "cell_type": "code",
      "source": [
        "print(f'MNIST sample shape: {x_train.shape[1:]}')\n",
        "print(f'Number of training samples: {x_train.shape[0]}')\n",
        "print(f'Number of testing samples: {x_test.shape[0]}')\n",
        "print(f'Number of classes: {len(np.unique(y_train))}')\n",
        "print(f'Number of columns: {len(x_train[0])}')"
      ],
      "metadata": {
        "colab": {
          "base_uri": "https://localhost:8080/"
        },
        "id": "AYAf0cqa_ohb",
        "outputId": "b5318343-5dab-412e-ae95-690e41ce9eec"
      },
      "execution_count": null,
      "outputs": [
        {
          "output_type": "stream",
          "name": "stdout",
          "text": [
            "MNIST sample shape: (28, 28)\n",
            "Number of training samples: 60000\n",
            "Number of testing samples: 10000\n",
            "Number of classes: 10\n",
            "Number of columns: 28\n"
          ]
        }
      ]
    },
    {
      "cell_type": "code",
      "source": [
        "train_reshape = np.reshape(x_train, (60000,784)).astype('float32')/255.0\n",
        "test_reshape = np.reshape(x_test,(10000,784)).astype('float32')/255.0"
      ],
      "metadata": {
        "id": "_00t9oqS-zGN"
      },
      "execution_count": null,
      "outputs": []
    },
    {
      "cell_type": "code",
      "source": [
        "def normalise_data(dataset):\n",
        "  for i in range(len(dataset)):\n",
        "    for j in dataset[i]:\n",
        "      dataset[i][j] = dataset[i][j]/255\n",
        "  return dataset"
      ],
      "metadata": {
        "id": "fCUXzRISAt1I"
      },
      "execution_count": null,
      "outputs": []
    },
    {
      "cell_type": "code",
      "source": [
        "normalise_train = normalise_data(train_reshape)\n"
      ],
      "metadata": {
        "id": "VwMEkluTBKIX",
        "colab": {
          "base_uri": "https://localhost:8080/",
          "height": 165
        },
        "outputId": "85439185-66a3-4cea-b18f-d315ea31a32e"
      },
      "execution_count": null,
      "outputs": [
        {
          "output_type": "error",
          "ename": "NameError",
          "evalue": "ignored",
          "traceback": [
            "\u001b[0;31m---------------------------------------------------------------------------\u001b[0m",
            "\u001b[0;31mNameError\u001b[0m                                 Traceback (most recent call last)",
            "\u001b[0;32m<ipython-input-21-e865fdbf7226>\u001b[0m in \u001b[0;36m<module>\u001b[0;34m\u001b[0m\n\u001b[0;32m----> 1\u001b[0;31m \u001b[0mnormalise_train\u001b[0m \u001b[0;34m=\u001b[0m \u001b[0mnormalise_data\u001b[0m\u001b[0;34m(\u001b[0m\u001b[0mtrain_reshape\u001b[0m\u001b[0;34m)\u001b[0m\u001b[0;34m\u001b[0m\u001b[0;34m\u001b[0m\u001b[0m\n\u001b[0m",
            "\u001b[0;31mNameError\u001b[0m: name 'normalise_data' is not defined"
          ]
        }
      ]
    },
    {
      "cell_type": "code",
      "source": [
        "normalised_test = test_reshape.astype('float32')/255.0\n"
      ],
      "metadata": {
        "id": "OSTscC9yEf5B"
      },
      "execution_count": null,
      "outputs": []
    },
    {
      "cell_type": "code",
      "source": [
        "n_model = tf.keras.Sequential(layers=[\n",
        "        layers.Dense(4, activation=tf.nn.relu),\n",
        "        layers.Dense(10, activation=tf.nn.relu,),\n",
        "        layers.Dense(len(np.unique(y_train)), activation=tf.nn.softmax),\n",
        "    ]\n",
        ") \n",
        "n_model.compile(optimizer=tf.keras.optimizers.SGD(),\n",
        "              loss=tf.keras.losses.SparseCategoricalCrossentropy(),\n",
        "              metrics=tf.keras.metrics.SparseCategoricalAccuracy())\n",
        "\n",
        "history1 = n_model.fit(train_reshape,y_train, epochs=90, validation_split=0.2,verbose=1)"
      ],
      "metadata": {
        "colab": {
          "base_uri": "https://localhost:8080/",
          "height": 574
        },
        "id": "r9Fm1D4gEzAc",
        "outputId": "c6647697-c76c-44ac-dc6e-b9dffab1c323"
      },
      "execution_count": null,
      "outputs": [
        {
          "output_type": "stream",
          "name": "stdout",
          "text": [
            "Epoch 1/90\n",
            "1500/1500 [==============================] - 3s 2ms/step - loss: 1.7948 - sparse_categorical_accuracy: 0.3480 - val_loss: 1.2885 - val_sparse_categorical_accuracy: 0.5561\n",
            "Epoch 2/90\n",
            "1500/1500 [==============================] - 2s 1ms/step - loss: 1.0552 - sparse_categorical_accuracy: 0.6360 - val_loss: 0.8046 - val_sparse_categorical_accuracy: 0.7573\n",
            "Epoch 3/90\n",
            "1500/1500 [==============================] - 2s 2ms/step - loss: 0.7390 - sparse_categorical_accuracy: 0.7868 - val_loss: 0.6321 - val_sparse_categorical_accuracy: 0.8201\n",
            "Epoch 4/90\n",
            "1500/1500 [==============================] - 2s 1ms/step - loss: 0.6242 - sparse_categorical_accuracy: 0.8199 - val_loss: 0.5625 - val_sparse_categorical_accuracy: 0.8342\n",
            "Epoch 5/90\n",
            "1500/1500 [==============================] - 2s 1ms/step - loss: 0.5731 - sparse_categorical_accuracy: 0.8348 - val_loss: 0.5342 - val_sparse_categorical_accuracy: 0.8419\n",
            "Epoch 6/90\n",
            "  91/1500 [>.............................] - ETA: 1s - loss: 0.5265 - sparse_categorical_accuracy: 0.8465"
          ]
        },
        {
          "output_type": "error",
          "ename": "KeyboardInterrupt",
          "evalue": "ignored",
          "traceback": [
            "\u001b[0;31m---------------------------------------------------------------------------\u001b[0m",
            "\u001b[0;31mKeyboardInterrupt\u001b[0m                         Traceback (most recent call last)",
            "\u001b[0;32m<ipython-input-22-fde7233bac96>\u001b[0m in \u001b[0;36m<module>\u001b[0;34m\u001b[0m\n\u001b[1;32m      9\u001b[0m               metrics=tf.keras.metrics.SparseCategoricalAccuracy())\n\u001b[1;32m     10\u001b[0m \u001b[0;34m\u001b[0m\u001b[0m\n\u001b[0;32m---> 11\u001b[0;31m \u001b[0mhistory1\u001b[0m \u001b[0;34m=\u001b[0m \u001b[0mn_model\u001b[0m\u001b[0;34m.\u001b[0m\u001b[0mfit\u001b[0m\u001b[0;34m(\u001b[0m\u001b[0mtrain_reshape\u001b[0m\u001b[0;34m,\u001b[0m\u001b[0my_train\u001b[0m\u001b[0;34m,\u001b[0m \u001b[0mepochs\u001b[0m\u001b[0;34m=\u001b[0m\u001b[0;36m90\u001b[0m\u001b[0;34m,\u001b[0m \u001b[0mvalidation_split\u001b[0m\u001b[0;34m=\u001b[0m\u001b[0;36m0.2\u001b[0m\u001b[0;34m,\u001b[0m\u001b[0mverbose\u001b[0m\u001b[0;34m=\u001b[0m\u001b[0;36m1\u001b[0m\u001b[0;34m)\u001b[0m\u001b[0;34m\u001b[0m\u001b[0;34m\u001b[0m\u001b[0m\n\u001b[0m",
            "\u001b[0;32m/usr/local/lib/python3.7/dist-packages/keras/utils/traceback_utils.py\u001b[0m in \u001b[0;36merror_handler\u001b[0;34m(*args, **kwargs)\u001b[0m\n\u001b[1;32m     62\u001b[0m     \u001b[0mfiltered_tb\u001b[0m \u001b[0;34m=\u001b[0m \u001b[0;32mNone\u001b[0m\u001b[0;34m\u001b[0m\u001b[0;34m\u001b[0m\u001b[0m\n\u001b[1;32m     63\u001b[0m     \u001b[0;32mtry\u001b[0m\u001b[0;34m:\u001b[0m\u001b[0;34m\u001b[0m\u001b[0;34m\u001b[0m\u001b[0m\n\u001b[0;32m---> 64\u001b[0;31m       \u001b[0;32mreturn\u001b[0m \u001b[0mfn\u001b[0m\u001b[0;34m(\u001b[0m\u001b[0;34m*\u001b[0m\u001b[0margs\u001b[0m\u001b[0;34m,\u001b[0m \u001b[0;34m**\u001b[0m\u001b[0mkwargs\u001b[0m\u001b[0;34m)\u001b[0m\u001b[0;34m\u001b[0m\u001b[0;34m\u001b[0m\u001b[0m\n\u001b[0m\u001b[1;32m     65\u001b[0m     \u001b[0;32mexcept\u001b[0m \u001b[0mException\u001b[0m \u001b[0;32mas\u001b[0m \u001b[0me\u001b[0m\u001b[0;34m:\u001b[0m  \u001b[0;31m# pylint: disable=broad-except\u001b[0m\u001b[0;34m\u001b[0m\u001b[0;34m\u001b[0m\u001b[0m\n\u001b[1;32m     66\u001b[0m       \u001b[0mfiltered_tb\u001b[0m \u001b[0;34m=\u001b[0m \u001b[0m_process_traceback_frames\u001b[0m\u001b[0;34m(\u001b[0m\u001b[0me\u001b[0m\u001b[0;34m.\u001b[0m\u001b[0m__traceback__\u001b[0m\u001b[0;34m)\u001b[0m\u001b[0;34m\u001b[0m\u001b[0;34m\u001b[0m\u001b[0m\n",
            "\u001b[0;32m/usr/local/lib/python3.7/dist-packages/keras/engine/training.py\u001b[0m in \u001b[0;36mfit\u001b[0;34m(self, x, y, batch_size, epochs, verbose, callbacks, validation_split, validation_data, shuffle, class_weight, sample_weight, initial_epoch, steps_per_epoch, validation_steps, validation_batch_size, validation_freq, max_queue_size, workers, use_multiprocessing)\u001b[0m\n\u001b[1;32m   1407\u001b[0m                 _r=1):\n\u001b[1;32m   1408\u001b[0m               \u001b[0mcallbacks\u001b[0m\u001b[0;34m.\u001b[0m\u001b[0mon_train_batch_begin\u001b[0m\u001b[0;34m(\u001b[0m\u001b[0mstep\u001b[0m\u001b[0;34m)\u001b[0m\u001b[0;34m\u001b[0m\u001b[0;34m\u001b[0m\u001b[0m\n\u001b[0;32m-> 1409\u001b[0;31m               \u001b[0mtmp_logs\u001b[0m \u001b[0;34m=\u001b[0m \u001b[0mself\u001b[0m\u001b[0;34m.\u001b[0m\u001b[0mtrain_function\u001b[0m\u001b[0;34m(\u001b[0m\u001b[0miterator\u001b[0m\u001b[0;34m)\u001b[0m\u001b[0;34m\u001b[0m\u001b[0;34m\u001b[0m\u001b[0m\n\u001b[0m\u001b[1;32m   1410\u001b[0m               \u001b[0;32mif\u001b[0m \u001b[0mdata_handler\u001b[0m\u001b[0;34m.\u001b[0m\u001b[0mshould_sync\u001b[0m\u001b[0;34m:\u001b[0m\u001b[0;34m\u001b[0m\u001b[0;34m\u001b[0m\u001b[0m\n\u001b[1;32m   1411\u001b[0m                 \u001b[0mcontext\u001b[0m\u001b[0;34m.\u001b[0m\u001b[0masync_wait\u001b[0m\u001b[0;34m(\u001b[0m\u001b[0;34m)\u001b[0m\u001b[0;34m\u001b[0m\u001b[0;34m\u001b[0m\u001b[0m\n",
            "\u001b[0;32m/usr/local/lib/python3.7/dist-packages/tensorflow/python/util/traceback_utils.py\u001b[0m in \u001b[0;36merror_handler\u001b[0;34m(*args, **kwargs)\u001b[0m\n\u001b[1;32m    148\u001b[0m     \u001b[0mfiltered_tb\u001b[0m \u001b[0;34m=\u001b[0m \u001b[0;32mNone\u001b[0m\u001b[0;34m\u001b[0m\u001b[0;34m\u001b[0m\u001b[0m\n\u001b[1;32m    149\u001b[0m     \u001b[0;32mtry\u001b[0m\u001b[0;34m:\u001b[0m\u001b[0;34m\u001b[0m\u001b[0;34m\u001b[0m\u001b[0m\n\u001b[0;32m--> 150\u001b[0;31m       \u001b[0;32mreturn\u001b[0m \u001b[0mfn\u001b[0m\u001b[0;34m(\u001b[0m\u001b[0;34m*\u001b[0m\u001b[0margs\u001b[0m\u001b[0;34m,\u001b[0m \u001b[0;34m**\u001b[0m\u001b[0mkwargs\u001b[0m\u001b[0;34m)\u001b[0m\u001b[0;34m\u001b[0m\u001b[0;34m\u001b[0m\u001b[0m\n\u001b[0m\u001b[1;32m    151\u001b[0m     \u001b[0;32mexcept\u001b[0m \u001b[0mException\u001b[0m \u001b[0;32mas\u001b[0m \u001b[0me\u001b[0m\u001b[0;34m:\u001b[0m\u001b[0;34m\u001b[0m\u001b[0;34m\u001b[0m\u001b[0m\n\u001b[1;32m    152\u001b[0m       \u001b[0mfiltered_tb\u001b[0m \u001b[0;34m=\u001b[0m \u001b[0m_process_traceback_frames\u001b[0m\u001b[0;34m(\u001b[0m\u001b[0me\u001b[0m\u001b[0;34m.\u001b[0m\u001b[0m__traceback__\u001b[0m\u001b[0;34m)\u001b[0m\u001b[0;34m\u001b[0m\u001b[0;34m\u001b[0m\u001b[0m\n",
            "\u001b[0;32m/usr/local/lib/python3.7/dist-packages/tensorflow/python/eager/def_function.py\u001b[0m in \u001b[0;36m__call__\u001b[0;34m(self, *args, **kwds)\u001b[0m\n\u001b[1;32m    913\u001b[0m \u001b[0;34m\u001b[0m\u001b[0m\n\u001b[1;32m    914\u001b[0m       \u001b[0;32mwith\u001b[0m \u001b[0mOptionalXlaContext\u001b[0m\u001b[0;34m(\u001b[0m\u001b[0mself\u001b[0m\u001b[0;34m.\u001b[0m\u001b[0m_jit_compile\u001b[0m\u001b[0;34m)\u001b[0m\u001b[0;34m:\u001b[0m\u001b[0;34m\u001b[0m\u001b[0;34m\u001b[0m\u001b[0m\n\u001b[0;32m--> 915\u001b[0;31m         \u001b[0mresult\u001b[0m \u001b[0;34m=\u001b[0m \u001b[0mself\u001b[0m\u001b[0;34m.\u001b[0m\u001b[0m_call\u001b[0m\u001b[0;34m(\u001b[0m\u001b[0;34m*\u001b[0m\u001b[0margs\u001b[0m\u001b[0;34m,\u001b[0m \u001b[0;34m**\u001b[0m\u001b[0mkwds\u001b[0m\u001b[0;34m)\u001b[0m\u001b[0;34m\u001b[0m\u001b[0;34m\u001b[0m\u001b[0m\n\u001b[0m\u001b[1;32m    916\u001b[0m \u001b[0;34m\u001b[0m\u001b[0m\n\u001b[1;32m    917\u001b[0m       \u001b[0mnew_tracing_count\u001b[0m \u001b[0;34m=\u001b[0m \u001b[0mself\u001b[0m\u001b[0;34m.\u001b[0m\u001b[0mexperimental_get_tracing_count\u001b[0m\u001b[0;34m(\u001b[0m\u001b[0;34m)\u001b[0m\u001b[0;34m\u001b[0m\u001b[0;34m\u001b[0m\u001b[0m\n",
            "\u001b[0;32m/usr/local/lib/python3.7/dist-packages/tensorflow/python/eager/def_function.py\u001b[0m in \u001b[0;36m_call\u001b[0;34m(self, *args, **kwds)\u001b[0m\n\u001b[1;32m    945\u001b[0m       \u001b[0;31m# In this case we have created variables on the first call, so we run the\u001b[0m\u001b[0;34m\u001b[0m\u001b[0;34m\u001b[0m\u001b[0;34m\u001b[0m\u001b[0m\n\u001b[1;32m    946\u001b[0m       \u001b[0;31m# defunned version which is guaranteed to never create variables.\u001b[0m\u001b[0;34m\u001b[0m\u001b[0;34m\u001b[0m\u001b[0;34m\u001b[0m\u001b[0m\n\u001b[0;32m--> 947\u001b[0;31m       \u001b[0;32mreturn\u001b[0m \u001b[0mself\u001b[0m\u001b[0;34m.\u001b[0m\u001b[0m_stateless_fn\u001b[0m\u001b[0;34m(\u001b[0m\u001b[0;34m*\u001b[0m\u001b[0margs\u001b[0m\u001b[0;34m,\u001b[0m \u001b[0;34m**\u001b[0m\u001b[0mkwds\u001b[0m\u001b[0;34m)\u001b[0m  \u001b[0;31m# pylint: disable=not-callable\u001b[0m\u001b[0;34m\u001b[0m\u001b[0;34m\u001b[0m\u001b[0m\n\u001b[0m\u001b[1;32m    948\u001b[0m     \u001b[0;32melif\u001b[0m \u001b[0mself\u001b[0m\u001b[0;34m.\u001b[0m\u001b[0m_stateful_fn\u001b[0m \u001b[0;32mis\u001b[0m \u001b[0;32mnot\u001b[0m \u001b[0;32mNone\u001b[0m\u001b[0;34m:\u001b[0m\u001b[0;34m\u001b[0m\u001b[0;34m\u001b[0m\u001b[0m\n\u001b[1;32m    949\u001b[0m       \u001b[0;31m# Release the lock early so that multiple threads can perform the call\u001b[0m\u001b[0;34m\u001b[0m\u001b[0;34m\u001b[0m\u001b[0;34m\u001b[0m\u001b[0m\n",
            "\u001b[0;32m/usr/local/lib/python3.7/dist-packages/tensorflow/python/eager/function.py\u001b[0m in \u001b[0;36m__call__\u001b[0;34m(self, *args, **kwargs)\u001b[0m\n\u001b[1;32m   2452\u001b[0m        filtered_flat_args) = self._maybe_define_function(args, kwargs)\n\u001b[1;32m   2453\u001b[0m     return graph_function._call_flat(\n\u001b[0;32m-> 2454\u001b[0;31m         filtered_flat_args, captured_inputs=graph_function.captured_inputs)  # pylint: disable=protected-access\n\u001b[0m\u001b[1;32m   2455\u001b[0m \u001b[0;34m\u001b[0m\u001b[0m\n\u001b[1;32m   2456\u001b[0m   \u001b[0;34m@\u001b[0m\u001b[0mproperty\u001b[0m\u001b[0;34m\u001b[0m\u001b[0;34m\u001b[0m\u001b[0m\n",
            "\u001b[0;32m/usr/local/lib/python3.7/dist-packages/tensorflow/python/eager/function.py\u001b[0m in \u001b[0;36m_call_flat\u001b[0;34m(self, args, captured_inputs, cancellation_manager)\u001b[0m\n\u001b[1;32m   1859\u001b[0m       \u001b[0;31m# No tape is watching; skip to running the function.\u001b[0m\u001b[0;34m\u001b[0m\u001b[0;34m\u001b[0m\u001b[0;34m\u001b[0m\u001b[0m\n\u001b[1;32m   1860\u001b[0m       return self._build_call_outputs(self._inference_function.call(\n\u001b[0;32m-> 1861\u001b[0;31m           ctx, args, cancellation_manager=cancellation_manager))\n\u001b[0m\u001b[1;32m   1862\u001b[0m     forward_backward = self._select_forward_and_backward_functions(\n\u001b[1;32m   1863\u001b[0m         \u001b[0margs\u001b[0m\u001b[0;34m,\u001b[0m\u001b[0;34m\u001b[0m\u001b[0;34m\u001b[0m\u001b[0m\n",
            "\u001b[0;32m/usr/local/lib/python3.7/dist-packages/tensorflow/python/eager/function.py\u001b[0m in \u001b[0;36mcall\u001b[0;34m(self, ctx, args, cancellation_manager)\u001b[0m\n\u001b[1;32m    500\u001b[0m               \u001b[0minputs\u001b[0m\u001b[0;34m=\u001b[0m\u001b[0margs\u001b[0m\u001b[0;34m,\u001b[0m\u001b[0;34m\u001b[0m\u001b[0;34m\u001b[0m\u001b[0m\n\u001b[1;32m    501\u001b[0m               \u001b[0mattrs\u001b[0m\u001b[0;34m=\u001b[0m\u001b[0mattrs\u001b[0m\u001b[0;34m,\u001b[0m\u001b[0;34m\u001b[0m\u001b[0;34m\u001b[0m\u001b[0m\n\u001b[0;32m--> 502\u001b[0;31m               ctx=ctx)\n\u001b[0m\u001b[1;32m    503\u001b[0m         \u001b[0;32melse\u001b[0m\u001b[0;34m:\u001b[0m\u001b[0;34m\u001b[0m\u001b[0;34m\u001b[0m\u001b[0m\n\u001b[1;32m    504\u001b[0m           outputs = execute.execute_with_cancellation(\n",
            "\u001b[0;32m/usr/local/lib/python3.7/dist-packages/tensorflow/python/eager/execute.py\u001b[0m in \u001b[0;36mquick_execute\u001b[0;34m(op_name, num_outputs, inputs, attrs, ctx, name)\u001b[0m\n\u001b[1;32m     53\u001b[0m     \u001b[0mctx\u001b[0m\u001b[0;34m.\u001b[0m\u001b[0mensure_initialized\u001b[0m\u001b[0;34m(\u001b[0m\u001b[0;34m)\u001b[0m\u001b[0;34m\u001b[0m\u001b[0;34m\u001b[0m\u001b[0m\n\u001b[1;32m     54\u001b[0m     tensors = pywrap_tfe.TFE_Py_Execute(ctx._handle, device_name, op_name,\n\u001b[0;32m---> 55\u001b[0;31m                                         inputs, attrs, num_outputs)\n\u001b[0m\u001b[1;32m     56\u001b[0m   \u001b[0;32mexcept\u001b[0m \u001b[0mcore\u001b[0m\u001b[0;34m.\u001b[0m\u001b[0m_NotOkStatusException\u001b[0m \u001b[0;32mas\u001b[0m \u001b[0me\u001b[0m\u001b[0;34m:\u001b[0m\u001b[0;34m\u001b[0m\u001b[0;34m\u001b[0m\u001b[0m\n\u001b[1;32m     57\u001b[0m     \u001b[0;32mif\u001b[0m \u001b[0mname\u001b[0m \u001b[0;32mis\u001b[0m \u001b[0;32mnot\u001b[0m \u001b[0;32mNone\u001b[0m\u001b[0;34m:\u001b[0m\u001b[0;34m\u001b[0m\u001b[0;34m\u001b[0m\u001b[0m\n",
            "\u001b[0;31mKeyboardInterrupt\u001b[0m: "
          ]
        }
      ]
    },
    {
      "cell_type": "code",
      "source": [
        "n_model.summary()\n",
        "y_test = y_test.astype(\"float32\")\n",
        "\n",
        "results = n_model.evaluate(normalised_test, y_test)\n",
        "print(f'Test set loss: {results[0]:0.2f}, test set accuracy: {results[1]*100:0.2f}%')\n",
        "predictions = n_model.predict(normalised_test)"
      ],
      "metadata": {
        "colab": {
          "base_uri": "https://localhost:8080/"
        },
        "id": "vyJdOsIGFfcY",
        "outputId": "52bddd0e-ac49-4650-91d4-b0a8382e5f0b"
      },
      "execution_count": null,
      "outputs": [
        {
          "output_type": "stream",
          "name": "stdout",
          "text": [
            "Model: \"sequential_10\"\n",
            "_________________________________________________________________\n",
            " Layer (type)                Output Shape              Param #   \n",
            "=================================================================\n",
            " dense_32 (Dense)            (32, 4)                   3140      \n",
            "                                                                 \n",
            " dense_33 (Dense)            (32, 10)                  50        \n",
            "                                                                 \n",
            " dense_34 (Dense)            (32, 10)                  110       \n",
            "                                                                 \n",
            "=================================================================\n",
            "Total params: 3,300\n",
            "Trainable params: 3,300\n",
            "Non-trainable params: 0\n",
            "_________________________________________________________________\n",
            "313/313 [==============================] - 1s 2ms/step - loss: 0.4114 - sparse_categorical_accuracy: 0.8786\n",
            "Test set loss: 0.41, test set accuracy: 87.86%\n",
            "313/313 [==============================] - 1s 2ms/step\n"
          ]
        }
      ]
    },
    {
      "cell_type": "code",
      "source": [
        "plt.figure(figsize=[10,5])\n",
        "plt.subplot(121)\n",
        "plt.plot(history1.history['sparse_categorical_accuracy'])\n",
        "plt.plot(history1.history['val_sparse_categorical_accuracy'])\n",
        "plt.xlabel('Epoch')\n",
        "plt.ylabel('Accuracy')\n",
        "plt.legend(['Training Accuracy',\n",
        "           'Validation Accuracy'])\n",
        "plt.title('Accuracy Curves')"
      ],
      "metadata": {
        "colab": {
          "base_uri": "https://localhost:8080/",
          "height": 367
        },
        "id": "helcRge8JVPu",
        "outputId": "ba40dd61-2575-4f00-9b91-1b0848f5790a"
      },
      "execution_count": null,
      "outputs": [
        {
          "output_type": "execute_result",
          "data": {
            "text/plain": [
              "Text(0.5, 1.0, 'Accuracy Curves')"
            ]
          },
          "metadata": {},
          "execution_count": 60
        },
        {
          "output_type": "display_data",
          "data": {
            "text/plain": [
              "<Figure size 720x360 with 1 Axes>"
            ],
            "image/png": "[encoded data removed]"
          },
          "metadata": {
            "needs_background": "light"
          }
        }
      ]
    },
    {
      "cell_type": "code",
      "source": [
        "plt.subplot(122)\n",
        "plt.plot(history1.history['loss'])\n",
        "plt.plot(history1.history['val_loss'])\n",
        "plt.xlabel('Epoch')\n",
        "plt.ylabel('Loss')\n",
        "plt.legend(['Training Loss',\n",
        "           'Validation Loss'])\n",
        "plt.title('Loss Curves')\n",
        "plt.show()"
      ],
      "metadata": {
        "colab": {
          "base_uri": "https://localhost:8080/",
          "height": 295
        },
        "id": "50ntWJgjSbce",
        "outputId": "cd2d3fb3-bee1-493f-c8c8-2f5c544203f6"
      },
      "execution_count": null,
      "outputs": [
        {
          "output_type": "display_data",
          "data": {
            "text/plain": [
              "<Figure size 432x288 with 1 Axes>"
            ],
            "image/png": "[encoded data removed]"
          },
          "metadata": {
            "needs_background": "light"
          }
        }
      ]
    },
    {
      "cell_type": "code",
      "source": [],
      "metadata": {
        "id": "zI8gU6oEaBS2"
      },
      "execution_count": null,
      "outputs": []
    },
    {
      "cell_type": "markdown",
      "source": [
        "Task 4.4"
      ],
      "metadata": {
        "id": "KQVGyQbfUePR"
      }
    },
    {
      "cell_type": "code",
      "source": [
        "X_train_data = np.expand_dims(x_train, axis=(3)).astype('float32')/255.0\n",
        "X_test_data = np.expand_dims(x_test, axis=(3)).astype('float32')/255.0\n",
        "\n",
        "X_train_data.shape\n",
        "X_test_data.shape"
      ],
      "metadata": {
        "colab": {
          "base_uri": "https://localhost:8080/"
        },
        "id": "_3V4wBpYaF2S",
        "outputId": "f7762135-268b-46ea-d7bb-2c83d33a717c"
      },
      "execution_count": null,
      "outputs": [
        {
          "output_type": "execute_result",
          "data": {
            "text/plain": [
              "(10000, 28, 28, 1)"
            ]
          },
          "metadata": {},
          "execution_count": 49
        }
      ]
    },
    {
      "cell_type": "code",
      "source": [
        "from keras.utils import to_categorical\n",
        "#one-hot encode target column\n",
        "y_train = to_categorical(y_train)\n",
        "y_test = to_categorical(y_test)\n",
        "y_train[0]"
      ],
      "metadata": {
        "colab": {
          "base_uri": "https://localhost:8080/"
        },
        "id": "R8S_WGbTSyD6",
        "outputId": "d01570e5-87eb-4088-c2cd-f20839e0ee5b"
      },
      "execution_count": null,
      "outputs": [
        {
          "output_type": "execute_result",
          "data": {
            "text/plain": [
              "array([[[0., 1.],\n",
              "        [1., 0.]],\n",
              "\n",
              "       [[0., 1.],\n",
              "        [1., 0.]],\n",
              "\n",
              "       [[0., 1.],\n",
              "        [1., 0.]],\n",
              "\n",
              "       [[0., 1.],\n",
              "        [1., 0.]],\n",
              "\n",
              "       [[0., 1.],\n",
              "        [1., 0.]],\n",
              "\n",
              "       [[1., 0.],\n",
              "        [0., 1.]],\n",
              "\n",
              "       [[0., 1.],\n",
              "        [1., 0.]],\n",
              "\n",
              "       [[0., 1.],\n",
              "        [1., 0.]],\n",
              "\n",
              "       [[0., 1.],\n",
              "        [1., 0.]],\n",
              "\n",
              "       [[0., 1.],\n",
              "        [1., 0.]]], dtype=float32)"
            ]
          },
          "metadata": {},
          "execution_count": 50
        }
      ]
    },
    {
      "cell_type": "code",
      "source": [
        "input_train_shape = (28, 28, 1)\n",
        "input_test_shape = (10000,28,28,1)\n",
        "x = tf.random.normal(input_train_shape)\n",
        "model3 = Sequential([\n",
        "    layers.Conv2D(32, (3, 3), activation=\"relu\", input_shape=(28, 28, 1)),\n",
        "    layers.MaxPooling2D((2, 2)),\n",
        "    layers.Flatten(),\n",
        "    layers.Dense(100, activation=\"relu\"),\n",
        "    layers.Dense(10, activation=\"softmax\")\n",
        "])\n",
        "#model3.add(layers.MaxPooling)\n"
      ],
      "metadata": {
        "id": "ionROf2F6Rsg"
      },
      "execution_count": null,
      "outputs": []
    },
    {
      "cell_type": "code",
      "source": [
        "model3.compile(\n",
        "    optimizer=tf.keras.optimizers.Adam(0.001),\n",
        "    loss=tf.keras.losses.SparseCategoricalCrossentropy(from_logits=True),\n",
        "    metrics=[tf.keras.metrics.SparseCategoricalAccuracy()],\n",
        ")"
      ],
      "metadata": {
        "id": "qe1IrbExbzwe"
      },
      "execution_count": null,
      "outputs": []
    },
    {
      "cell_type": "code",
      "source": [
        "model3.summary()"
      ],
      "metadata": {
        "colab": {
          "base_uri": "https://localhost:8080/"
        },
        "id": "Xl4QQPBmRJSl",
        "outputId": "6042fa94-8a6a-47ec-d3e9-c427ab14e451"
      },
      "execution_count": null,
      "outputs": [
        {
          "output_type": "stream",
          "name": "stdout",
          "text": [
            "Model: \"sequential_8\"\n",
            "_________________________________________________________________\n",
            " Layer (type)                Output Shape              Param #   \n",
            "=================================================================\n",
            " conv2d_4 (Conv2D)           (None, 26, 26, 32)        320       \n",
            "                                                                 \n",
            " max_pooling2d_4 (MaxPooling  (None, 13, 13, 32)       0         \n",
            " 2D)                                                             \n",
            "                                                                 \n",
            " flatten_4 (Flatten)         (None, 5408)              0         \n",
            "                                                                 \n",
            " dense_20 (Dense)            (None, 100)               540900    \n",
            "                                                                 \n",
            " dense_21 (Dense)            (None, 10)                1010      \n",
            "                                                                 \n",
            "=================================================================\n",
            "Total params: 542,230\n",
            "Trainable params: 542,230\n",
            "Non-trainable params: 0\n",
            "_________________________________________________________________\n"
          ]
        }
      ]
    },
    {
      "cell_type": "code",
      "source": [
        "model3.fit(x = X_train_data, y = y_train, epochs=10, batch_size=32)"
      ],
      "metadata": {
        "colab": {
          "base_uri": "https://localhost:8080/",
          "height": 782
        },
        "id": "3xfpb3seDD36",
        "outputId": "dd79bf88-909f-4171-8549-8a94ba36d544"
      },
      "execution_count": null,
      "outputs": [
        {
          "output_type": "stream",
          "name": "stdout",
          "text": [
            "Epoch 1/10\n"
          ]
        },
        {
          "output_type": "stream",
          "name": "stderr",
          "text": [
            "/usr/local/lib/python3.7/dist-packages/tensorflow/python/util/dispatch.py:1082: UserWarning: \"`sparse_categorical_crossentropy` received `from_logits=True`, but the `output` argument was produced by a sigmoid or softmax activation and thus does not represent logits. Was this intended?\"\n",
            "  return dispatch_target(*args, **kwargs)\n"
          ]
        },
        {
          "output_type": "error",
          "ename": "ValueError",
          "evalue": "ignored",
          "traceback": [
            "\u001b[0;31m---------------------------------------------------------------------------\u001b[0m",
            "\u001b[0;31mValueError\u001b[0m                                Traceback (most recent call last)",
            "\u001b[0;32m<ipython-input-56-ccf7130b6ae4>\u001b[0m in \u001b[0;36m<module>\u001b[0;34m\u001b[0m\n\u001b[0;32m----> 1\u001b[0;31m \u001b[0mmodel3\u001b[0m\u001b[0;34m.\u001b[0m\u001b[0mfit\u001b[0m\u001b[0;34m(\u001b[0m\u001b[0mx\u001b[0m \u001b[0;34m=\u001b[0m \u001b[0mX_train_data\u001b[0m\u001b[0;34m,\u001b[0m \u001b[0my\u001b[0m \u001b[0;34m=\u001b[0m \u001b[0my_train\u001b[0m\u001b[0;34m,\u001b[0m \u001b[0mepochs\u001b[0m\u001b[0;34m=\u001b[0m\u001b[0;36m10\u001b[0m\u001b[0;34m,\u001b[0m \u001b[0mbatch_size\u001b[0m\u001b[0;34m=\u001b[0m\u001b[0;36m32\u001b[0m\u001b[0;34m)\u001b[0m\u001b[0;34m\u001b[0m\u001b[0;34m\u001b[0m\u001b[0m\n\u001b[0m",
            "\u001b[0;32m/usr/local/lib/python3.7/dist-packages/keras/utils/traceback_utils.py\u001b[0m in \u001b[0;36merror_handler\u001b[0;34m(*args, **kwargs)\u001b[0m\n\u001b[1;32m     65\u001b[0m     \u001b[0;32mexcept\u001b[0m \u001b[0mException\u001b[0m \u001b[0;32mas\u001b[0m \u001b[0me\u001b[0m\u001b[0;34m:\u001b[0m  \u001b[0;31m# pylint: disable=broad-except\u001b[0m\u001b[0;34m\u001b[0m\u001b[0;34m\u001b[0m\u001b[0m\n\u001b[1;32m     66\u001b[0m       \u001b[0mfiltered_tb\u001b[0m \u001b[0;34m=\u001b[0m \u001b[0m_process_traceback_frames\u001b[0m\u001b[0;34m(\u001b[0m\u001b[0me\u001b[0m\u001b[0;34m.\u001b[0m\u001b[0m__traceback__\u001b[0m\u001b[0;34m)\u001b[0m\u001b[0;34m\u001b[0m\u001b[0;34m\u001b[0m\u001b[0m\n\u001b[0;32m---> 67\u001b[0;31m       \u001b[0;32mraise\u001b[0m \u001b[0me\u001b[0m\u001b[0;34m.\u001b[0m\u001b[0mwith_traceback\u001b[0m\u001b[0;34m(\u001b[0m\u001b[0mfiltered_tb\u001b[0m\u001b[0;34m)\u001b[0m \u001b[0;32mfrom\u001b[0m \u001b[0;32mNone\u001b[0m\u001b[0;34m\u001b[0m\u001b[0;34m\u001b[0m\u001b[0m\n\u001b[0m\u001b[1;32m     68\u001b[0m     \u001b[0;32mfinally\u001b[0m\u001b[0;34m:\u001b[0m\u001b[0;34m\u001b[0m\u001b[0;34m\u001b[0m\u001b[0m\n\u001b[1;32m     69\u001b[0m       \u001b[0;32mdel\u001b[0m \u001b[0mfiltered_tb\u001b[0m\u001b[0;34m\u001b[0m\u001b[0;34m\u001b[0m\u001b[0m\n",
            "\u001b[0;32m/usr/local/lib/python3.7/dist-packages/keras/engine/training.py\u001b[0m in \u001b[0;36mtf__train_function\u001b[0;34m(iterator)\u001b[0m\n\u001b[1;32m     13\u001b[0m                 \u001b[0;32mtry\u001b[0m\u001b[0;34m:\u001b[0m\u001b[0;34m\u001b[0m\u001b[0;34m\u001b[0m\u001b[0m\n\u001b[1;32m     14\u001b[0m                     \u001b[0mdo_return\u001b[0m \u001b[0;34m=\u001b[0m \u001b[0;32mTrue\u001b[0m\u001b[0;34m\u001b[0m\u001b[0;34m\u001b[0m\u001b[0m\n\u001b[0;32m---> 15\u001b[0;31m                     \u001b[0mretval_\u001b[0m \u001b[0;34m=\u001b[0m \u001b[0mag__\u001b[0m\u001b[0;34m.\u001b[0m\u001b[0mconverted_call\u001b[0m\u001b[0;34m(\u001b[0m\u001b[0mag__\u001b[0m\u001b[0;34m.\u001b[0m\u001b[0mld\u001b[0m\u001b[0;34m(\u001b[0m\u001b[0mstep_function\u001b[0m\u001b[0;34m)\u001b[0m\u001b[0;34m,\u001b[0m \u001b[0;34m(\u001b[0m\u001b[0mag__\u001b[0m\u001b[0;34m.\u001b[0m\u001b[0mld\u001b[0m\u001b[0;34m(\u001b[0m\u001b[0mself\u001b[0m\u001b[0;34m)\u001b[0m\u001b[0;34m,\u001b[0m \u001b[0mag__\u001b[0m\u001b[0;34m.\u001b[0m\u001b[0mld\u001b[0m\u001b[0;34m(\u001b[0m\u001b[0miterator\u001b[0m\u001b[0;34m)\u001b[0m\u001b[0;34m)\u001b[0m\u001b[0;34m,\u001b[0m \u001b[0;32mNone\u001b[0m\u001b[0;34m,\u001b[0m \u001b[0mfscope\u001b[0m\u001b[0;34m)\u001b[0m\u001b[0;34m\u001b[0m\u001b[0;34m\u001b[0m\u001b[0m\n\u001b[0m\u001b[1;32m     16\u001b[0m                 \u001b[0;32mexcept\u001b[0m\u001b[0;34m:\u001b[0m\u001b[0;34m\u001b[0m\u001b[0;34m\u001b[0m\u001b[0m\n\u001b[1;32m     17\u001b[0m                     \u001b[0mdo_return\u001b[0m \u001b[0;34m=\u001b[0m \u001b[0;32mFalse\u001b[0m\u001b[0;34m\u001b[0m\u001b[0;34m\u001b[0m\u001b[0m\n",
            "\u001b[0;31mValueError\u001b[0m: in user code:\n\n    File \"/usr/local/lib/python3.7/dist-packages/keras/engine/training.py\", line 1051, in train_function  *\n        return step_function(self, iterator)\n    File \"/usr/local/lib/python3.7/dist-packages/keras/engine/training.py\", line 1040, in step_function  **\n        outputs = model.distribute_strategy.run(run_step, args=(data,))\n    File \"/usr/local/lib/python3.7/dist-packages/keras/engine/training.py\", line 1030, in run_step  **\n        outputs = model.train_step(data)\n    File \"/usr/local/lib/python3.7/dist-packages/keras/engine/training.py\", line 890, in train_step\n        loss = self.compute_loss(x, y, y_pred, sample_weight)\n    File \"/usr/local/lib/python3.7/dist-packages/keras/engine/training.py\", line 949, in compute_loss\n        y, y_pred, sample_weight, regularization_losses=self.losses)\n    File \"/usr/local/lib/python3.7/dist-packages/keras/engine/compile_utils.py\", line 201, in __call__\n        loss_value = loss_obj(y_t, y_p, sample_weight=sw)\n    File \"/usr/local/lib/python3.7/dist-packages/keras/losses.py\", line 139, in __call__\n        losses = call_fn(y_true, y_pred)\n    File \"/usr/local/lib/python3.7/dist-packages/keras/losses.py\", line 243, in call  **\n        return ag_fn(y_true, y_pred, **self._fn_kwargs)\n    File \"/usr/local/lib/python3.7/dist-packages/keras/losses.py\", line 1861, in sparse_categorical_crossentropy\n        y_true, y_pred, from_logits=from_logits, axis=axis)\n    File \"/usr/local/lib/python3.7/dist-packages/keras/backend.py\", line 5239, in sparse_categorical_crossentropy\n        labels=target, logits=output)\n\n    ValueError: `labels.shape` must equal `logits.shape` except for the last dimension. Received: labels.shape=(1280,) and logits.shape=(32, 10)\n"
          ]
        }
      ]
    }
  ]
}